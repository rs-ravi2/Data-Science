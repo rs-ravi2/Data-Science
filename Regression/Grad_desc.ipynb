{
  "nbformat": 4,
  "nbformat_minor": 0,
  "metadata": {
    "colab": {
      "name": "Grad_desc.ipynb",
      "provenance": [],
      "authorship_tag": "ABX9TyMH+jzCF/Se43yY8duSjgax",
      "include_colab_link": true
    },
    "kernelspec": {
      "name": "python3",
      "display_name": "Python 3"
    },
    "language_info": {
      "name": "python"
    },
    "gpuClass": "standard"
  },
  "cells": [
    {
      "cell_type": "markdown",
      "metadata": {
        "id": "view-in-github",
        "colab_type": "text"
      },
      "source": [
        "<a href=\"https://colab.research.google.com/github/rs-ravi2/DS/blob/main/Grad_desc.ipynb\" target=\"_parent\"><img src=\"https://colab.research.google.com/assets/colab-badge.svg\" alt=\"Open In Colab\"/></a>"
      ]
    },
    {
      "cell_type": "code",
      "execution_count": 28,
      "metadata": {
        "id": "ysps9OeZKKUD"
      },
      "outputs": [],
      "source": [
        "from sklearn import datasets\n",
        "import pandas as pd\n",
        "import matplotlib.pyplot as plt\n",
        "from IPython.display import HTML\n",
        "from matplotlib import animation\n",
        "from mpl_toolkits.mplot3d import Axes3D\n",
        "from matplotlib import cm\n",
        "import numpy as np"
      ]
    },
    {
      "cell_type": "code",
      "source": [
        "from google.colab import drive\n",
        "drive.mount('/content/drive')"
      ],
      "metadata": {
        "id": "HqIP3Qm2qvFZ",
        "colab": {
          "base_uri": "https://localhost:8080/"
        },
        "outputId": "1c905df7-6b21-40e3-dd4c-0588a119716e"
      },
      "execution_count": 29,
      "outputs": [
        {
          "output_type": "stream",
          "name": "stdout",
          "text": [
            "Drive already mounted at /content/drive; to attempt to forcibly remount, call drive.mount(\"/content/drive\", force_remount=True).\n"
          ]
        }
      ]
    },
    {
      "cell_type": "code",
      "source": [
        "housing_data = pd.read_csv('/content/drive/MyDrive/Colab Data/HousingData.csv')"
      ],
      "metadata": {
        "id": "9GUeir9grM54"
      },
      "execution_count": 30,
      "outputs": []
    },
    {
      "cell_type": "code",
      "source": [
        "housing_data.head()"
      ],
      "metadata": {
        "id": "JSFy7izvr9Ok",
        "colab": {
          "base_uri": "https://localhost:8080/",
          "height": 206
        },
        "outputId": "ba4bc834-b2cd-4df6-edc7-e4694f70b338"
      },
      "execution_count": 31,
      "outputs": [
        {
          "output_type": "execute_result",
          "data": {
            "text/plain": [
              "      CRIM    ZN  INDUS  CHAS    NOX     RM   AGE     DIS  RAD  TAX  PTRATIO  \\\n",
              "0  0.00632  18.0   2.31   0.0  0.538  6.575  65.2  4.0900    1  296     15.3   \n",
              "1  0.02731   0.0   7.07   0.0  0.469  6.421  78.9  4.9671    2  242     17.8   \n",
              "2  0.02729   0.0   7.07   0.0  0.469  7.185  61.1  4.9671    2  242     17.8   \n",
              "3  0.03237   0.0   2.18   0.0  0.458  6.998  45.8  6.0622    3  222     18.7   \n",
              "4  0.06905   0.0   2.18   0.0  0.458  7.147  54.2  6.0622    3  222     18.7   \n",
              "\n",
              "        B  LSTAT  MEDV  \n",
              "0  396.90   4.98  24.0  \n",
              "1  396.90   9.14  21.6  \n",
              "2  392.83   4.03  34.7  \n",
              "3  394.63   2.94  33.4  \n",
              "4  396.90    NaN  36.2  "
            ],
            "text/html": [
              "\n",
              "  <div id=\"df-0012d351-15e8-426d-930b-823a99ccee0b\">\n",
              "    <div class=\"colab-df-container\">\n",
              "      <div>\n",
              "<style scoped>\n",
              "    .dataframe tbody tr th:only-of-type {\n",
              "        vertical-align: middle;\n",
              "    }\n",
              "\n",
              "    .dataframe tbody tr th {\n",
              "        vertical-align: top;\n",
              "    }\n",
              "\n",
              "    .dataframe thead th {\n",
              "        text-align: right;\n",
              "    }\n",
              "</style>\n",
              "<table border=\"1\" class=\"dataframe\">\n",
              "  <thead>\n",
              "    <tr style=\"text-align: right;\">\n",
              "      <th></th>\n",
              "      <th>CRIM</th>\n",
              "      <th>ZN</th>\n",
              "      <th>INDUS</th>\n",
              "      <th>CHAS</th>\n",
              "      <th>NOX</th>\n",
              "      <th>RM</th>\n",
              "      <th>AGE</th>\n",
              "      <th>DIS</th>\n",
              "      <th>RAD</th>\n",
              "      <th>TAX</th>\n",
              "      <th>PTRATIO</th>\n",
              "      <th>B</th>\n",
              "      <th>LSTAT</th>\n",
              "      <th>MEDV</th>\n",
              "    </tr>\n",
              "  </thead>\n",
              "  <tbody>\n",
              "    <tr>\n",
              "      <th>0</th>\n",
              "      <td>0.00632</td>\n",
              "      <td>18.0</td>\n",
              "      <td>2.31</td>\n",
              "      <td>0.0</td>\n",
              "      <td>0.538</td>\n",
              "      <td>6.575</td>\n",
              "      <td>65.2</td>\n",
              "      <td>4.0900</td>\n",
              "      <td>1</td>\n",
              "      <td>296</td>\n",
              "      <td>15.3</td>\n",
              "      <td>396.90</td>\n",
              "      <td>4.98</td>\n",
              "      <td>24.0</td>\n",
              "    </tr>\n",
              "    <tr>\n",
              "      <th>1</th>\n",
              "      <td>0.02731</td>\n",
              "      <td>0.0</td>\n",
              "      <td>7.07</td>\n",
              "      <td>0.0</td>\n",
              "      <td>0.469</td>\n",
              "      <td>6.421</td>\n",
              "      <td>78.9</td>\n",
              "      <td>4.9671</td>\n",
              "      <td>2</td>\n",
              "      <td>242</td>\n",
              "      <td>17.8</td>\n",
              "      <td>396.90</td>\n",
              "      <td>9.14</td>\n",
              "      <td>21.6</td>\n",
              "    </tr>\n",
              "    <tr>\n",
              "      <th>2</th>\n",
              "      <td>0.02729</td>\n",
              "      <td>0.0</td>\n",
              "      <td>7.07</td>\n",
              "      <td>0.0</td>\n",
              "      <td>0.469</td>\n",
              "      <td>7.185</td>\n",
              "      <td>61.1</td>\n",
              "      <td>4.9671</td>\n",
              "      <td>2</td>\n",
              "      <td>242</td>\n",
              "      <td>17.8</td>\n",
              "      <td>392.83</td>\n",
              "      <td>4.03</td>\n",
              "      <td>34.7</td>\n",
              "    </tr>\n",
              "    <tr>\n",
              "      <th>3</th>\n",
              "      <td>0.03237</td>\n",
              "      <td>0.0</td>\n",
              "      <td>2.18</td>\n",
              "      <td>0.0</td>\n",
              "      <td>0.458</td>\n",
              "      <td>6.998</td>\n",
              "      <td>45.8</td>\n",
              "      <td>6.0622</td>\n",
              "      <td>3</td>\n",
              "      <td>222</td>\n",
              "      <td>18.7</td>\n",
              "      <td>394.63</td>\n",
              "      <td>2.94</td>\n",
              "      <td>33.4</td>\n",
              "    </tr>\n",
              "    <tr>\n",
              "      <th>4</th>\n",
              "      <td>0.06905</td>\n",
              "      <td>0.0</td>\n",
              "      <td>2.18</td>\n",
              "      <td>0.0</td>\n",
              "      <td>0.458</td>\n",
              "      <td>7.147</td>\n",
              "      <td>54.2</td>\n",
              "      <td>6.0622</td>\n",
              "      <td>3</td>\n",
              "      <td>222</td>\n",
              "      <td>18.7</td>\n",
              "      <td>396.90</td>\n",
              "      <td>NaN</td>\n",
              "      <td>36.2</td>\n",
              "    </tr>\n",
              "  </tbody>\n",
              "</table>\n",
              "</div>\n",
              "      <button class=\"colab-df-convert\" onclick=\"convertToInteractive('df-0012d351-15e8-426d-930b-823a99ccee0b')\"\n",
              "              title=\"Convert this dataframe to an interactive table.\"\n",
              "              style=\"display:none;\">\n",
              "        \n",
              "  <svg xmlns=\"http://www.w3.org/2000/svg\" height=\"24px\"viewBox=\"0 0 24 24\"\n",
              "       width=\"24px\">\n",
              "    <path d=\"M0 0h24v24H0V0z\" fill=\"none\"/>\n",
              "    <path d=\"M18.56 5.44l.94 2.06.94-2.06 2.06-.94-2.06-.94-.94-2.06-.94 2.06-2.06.94zm-11 1L8.5 8.5l.94-2.06 2.06-.94-2.06-.94L8.5 2.5l-.94 2.06-2.06.94zm10 10l.94 2.06.94-2.06 2.06-.94-2.06-.94-.94-2.06-.94 2.06-2.06.94z\"/><path d=\"M17.41 7.96l-1.37-1.37c-.4-.4-.92-.59-1.43-.59-.52 0-1.04.2-1.43.59L10.3 9.45l-7.72 7.72c-.78.78-.78 2.05 0 2.83L4 21.41c.39.39.9.59 1.41.59.51 0 1.02-.2 1.41-.59l7.78-7.78 2.81-2.81c.8-.78.8-2.07 0-2.86zM5.41 20L4 18.59l7.72-7.72 1.47 1.35L5.41 20z\"/>\n",
              "  </svg>\n",
              "      </button>\n",
              "      \n",
              "  <style>\n",
              "    .colab-df-container {\n",
              "      display:flex;\n",
              "      flex-wrap:wrap;\n",
              "      gap: 12px;\n",
              "    }\n",
              "\n",
              "    .colab-df-convert {\n",
              "      background-color: #E8F0FE;\n",
              "      border: none;\n",
              "      border-radius: 50%;\n",
              "      cursor: pointer;\n",
              "      display: none;\n",
              "      fill: #1967D2;\n",
              "      height: 32px;\n",
              "      padding: 0 0 0 0;\n",
              "      width: 32px;\n",
              "    }\n",
              "\n",
              "    .colab-df-convert:hover {\n",
              "      background-color: #E2EBFA;\n",
              "      box-shadow: 0px 1px 2px rgba(60, 64, 67, 0.3), 0px 1px 3px 1px rgba(60, 64, 67, 0.15);\n",
              "      fill: #174EA6;\n",
              "    }\n",
              "\n",
              "    [theme=dark] .colab-df-convert {\n",
              "      background-color: #3B4455;\n",
              "      fill: #D2E3FC;\n",
              "    }\n",
              "\n",
              "    [theme=dark] .colab-df-convert:hover {\n",
              "      background-color: #434B5C;\n",
              "      box-shadow: 0px 1px 3px 1px rgba(0, 0, 0, 0.15);\n",
              "      filter: drop-shadow(0px 1px 2px rgba(0, 0, 0, 0.3));\n",
              "      fill: #FFFFFF;\n",
              "    }\n",
              "  </style>\n",
              "\n",
              "      <script>\n",
              "        const buttonEl =\n",
              "          document.querySelector('#df-0012d351-15e8-426d-930b-823a99ccee0b button.colab-df-convert');\n",
              "        buttonEl.style.display =\n",
              "          google.colab.kernel.accessAllowed ? 'block' : 'none';\n",
              "\n",
              "        async function convertToInteractive(key) {\n",
              "          const element = document.querySelector('#df-0012d351-15e8-426d-930b-823a99ccee0b');\n",
              "          const dataTable =\n",
              "            await google.colab.kernel.invokeFunction('convertToInteractive',\n",
              "                                                     [key], {});\n",
              "          if (!dataTable) return;\n",
              "\n",
              "          const docLinkHtml = 'Like what you see? Visit the ' +\n",
              "            '<a target=\"_blank\" href=https://colab.research.google.com/notebooks/data_table.ipynb>data table notebook</a>'\n",
              "            + ' to learn more about interactive tables.';\n",
              "          element.innerHTML = '';\n",
              "          dataTable['output_type'] = 'display_data';\n",
              "          await google.colab.output.renderOutput(dataTable, element);\n",
              "          const docLink = document.createElement('div');\n",
              "          docLink.innerHTML = docLinkHtml;\n",
              "          element.appendChild(docLink);\n",
              "        }\n",
              "      </script>\n",
              "    </div>\n",
              "  </div>\n",
              "  "
            ]
          },
          "metadata": {},
          "execution_count": 31
        }
      ]
    },
    {
      "cell_type": "code",
      "source": [
        "data = housing_data.dropna()"
      ],
      "metadata": {
        "id": "QpigvL9TsA27"
      },
      "execution_count": 32,
      "outputs": []
    },
    {
      "cell_type": "code",
      "source": [
        "X = data.iloc[:, 4:8].values\n",
        "y = data.iloc[:, -1].values"
      ],
      "metadata": {
        "id": "kftYtYmrsF8C"
      },
      "execution_count": 33,
      "outputs": []
    },
    {
      "cell_type": "code",
      "source": [
        "X"
      ],
      "metadata": {
        "id": "2_FhLOUXL3uU",
        "colab": {
          "base_uri": "https://localhost:8080/"
        },
        "outputId": "7a08ca17-84aa-48d0-878e-4c9bb057d8e5"
      },
      "execution_count": 34,
      "outputs": [
        {
          "output_type": "execute_result",
          "data": {
            "text/plain": [
              "array([[ 0.538 ,  6.575 , 65.2   ,  4.09  ],\n",
              "       [ 0.469 ,  6.421 , 78.9   ,  4.9671],\n",
              "       [ 0.469 ,  7.185 , 61.1   ,  4.9671],\n",
              "       ...,\n",
              "       [ 0.573 ,  6.12  , 76.7   ,  2.2875],\n",
              "       [ 0.573 ,  6.976 , 91.    ,  2.1675],\n",
              "       [ 0.573 ,  6.794 , 89.3   ,  2.3889]])"
            ]
          },
          "metadata": {},
          "execution_count": 34
        }
      ]
    },
    {
      "cell_type": "code",
      "source": [
        "X = np.c_[np.ones(X.shape[0]), X]"
      ],
      "metadata": {
        "id": "X2-CLbiqL7M-"
      },
      "execution_count": 35,
      "outputs": []
    },
    {
      "cell_type": "code",
      "source": [
        "# Parameters required for Gradient Descent\n",
        "alpha = 0.0001   #learning rate\n",
        "itr = 1000 #no_of_iterations\n",
        "m = y.size  #no. of data points\n",
        "np.random.seed(10)\n",
        "beta = np.random.rand(5)  #initializing beta with some random values\n",
        "batch_size = 25"
      ],
      "metadata": {
        "id": "hhDCpl-NKU4P"
      },
      "execution_count": 36,
      "outputs": []
    },
    {
      "cell_type": "code",
      "source": [
        "beta"
      ],
      "metadata": {
        "id": "jnyXmr5eMMJp",
        "colab": {
          "base_uri": "https://localhost:8080/"
        },
        "outputId": "80f012d2-ba77-43e9-b334-d47855109efc"
      },
      "execution_count": 37,
      "outputs": [
        {
          "output_type": "execute_result",
          "data": {
            "text/plain": [
              "array([0.77132064, 0.02075195, 0.63364823, 0.74880388, 0.49850701])"
            ]
          },
          "metadata": {},
          "execution_count": 37
        }
      ]
    },
    {
      "cell_type": "code",
      "source": [
        "print(X.shape)\n",
        "print(beta.shape)\n",
        "print(y.shape)"
      ],
      "metadata": {
        "id": "QehCIc5dNOuW",
        "colab": {
          "base_uri": "https://localhost:8080/"
        },
        "outputId": "b1fd3bec-cce2-49f5-d621-52ab6a4c9e11"
      },
      "execution_count": 38,
      "outputs": [
        {
          "output_type": "stream",
          "name": "stdout",
          "text": [
            "(394, 5)\n",
            "(5,)\n",
            "(394,)\n"
          ]
        }
      ]
    },
    {
      "cell_type": "code",
      "source": [
        "def gradient_descent(x, y, batch_size, itr, beta, alpha):\n",
        "    batch_count = m//batch_size #no_of_batches\n",
        "    n = X.shape[1]\n",
        "    loss_list = []   #to record all loss values to this list\n",
        "    beta_list = []  #to record all beta_0 and beta_1 values to this list \n",
        "    prediction_list = []\n",
        "    for i in range(0,itr):\n",
        "        loss_batch_list = []\n",
        "        prediction_batch_list = []\n",
        "        beta_batch_list = []\n",
        "        for k in range(1, batch_count):\n",
        "            indx =  list(np.random.randint(0,m,int(batch_size)))\n",
        "            X_batch = X[np.ix_(indx, )] \n",
        "            Y_batch = y[np.ix_(indx)]\n",
        "            y_pred_batch = np.dot(X_batch, beta)\n",
        "            prediction_batch_list.append(y_pred_batch)\n",
        "            loss = np.sqrt(((Y_batch-y_pred_batch)**2).mean()) #RMSE\n",
        "            loss_batch_list.append(loss)\n",
        "            beta[0] = beta[0] - alpha * ((-2/m)*sum(Y_batch - y_pred_batch))\n",
        "\n",
        "            for j in range(1, n):\n",
        "                beta[j] = beta[j] - alpha * ((-2/m)*sum(X_batch[:,j]*(Y_batch - y_pred_batch)))\n",
        "\n",
        "            beta_batch_list.append(beta)\n",
        "\n",
        "        loss_list.append(loss_batch_list[-1])\n",
        "        prediction_list.append(prediction_batch_list[-1])\n",
        "        beta_list.append(beta_batch_list[-1])\n",
        "\n",
        "    return prediction_list, loss_list, beta_list"
      ],
      "metadata": {
        "id": "InuoY84nMNQD"
      },
      "execution_count": 39,
      "outputs": []
    },
    {
      "cell_type": "code",
      "source": [
        "y_pred_list, loss_list, beta_list = gradient_descent(X,y,batch_size,itr,beta,alpha)"
      ],
      "metadata": {
        "id": "90x3VS7FQ18b"
      },
      "execution_count": 40,
      "outputs": []
    },
    {
      "cell_type": "code",
      "source": [
        "beta = beta_list[-1]\n",
        "print(beta)"
      ],
      "metadata": {
        "id": "T15z5mEte6TD",
        "colab": {
          "base_uri": "https://localhost:8080/"
        },
        "outputId": "5a805e7a-3167-4161-a95a-749be5e87c84"
      },
      "execution_count": 41,
      "outputs": [
        {
          "output_type": "stream",
          "name": "stdout",
          "text": [
            "[ 0.96874315  0.07318152  2.51327546 -0.00307889  1.50992469]\n"
          ]
        }
      ]
    },
    {
      "cell_type": "code",
      "source": [
        "min(loss_list)"
      ],
      "metadata": {
        "id": "La1mgUcGTYaD",
        "colab": {
          "base_uri": "https://localhost:8080/"
        },
        "outputId": "3534b382-ee6f-42eb-de08-55688430f78a"
      },
      "execution_count": 42,
      "outputs": [
        {
          "output_type": "execute_result",
          "data": {
            "text/plain": [
              "3.5901489368129385"
            ]
          },
          "metadata": {},
          "execution_count": 42
        }
      ]
    },
    {
      "cell_type": "code",
      "source": [
        "epochs = range(1,itr+1)\n",
        "plt.plot(epochs, loss_list, 'g', label='Loss')\n",
        "plt.title('Loss vs Epochs')\n",
        "plt.xlabel('Epochs')\n",
        "plt.ylabel('Loss')\n",
        "plt.legend()\n",
        "plt.show()"
      ],
      "metadata": {
        "id": "QIrpgAR6UY9P",
        "colab": {
          "base_uri": "https://localhost:8080/",
          "height": 295
        },
        "outputId": "bd6f6c4e-771c-4b88-89c0-933390307356"
      },
      "execution_count": 43,
      "outputs": [
        {
          "output_type": "display_data",
          "data": {
            "text/plain": [
              "<Figure size 432x288 with 1 Axes>"
            ],
            "image/png": "[encoded data removed]"
          },
          "metadata": {
            "needs_background": "light"
          }
        }
      ]
    },
    {
      "cell_type": "markdown",
      "source": [
        "Comparing"
      ],
      "metadata": {
        "id": "aMmw_nNjZG0Z"
      }
    },
    {
      "cell_type": "code",
      "source": [
        "y_pred_final = y_pred_list[-1]"
      ],
      "metadata": {
        "id": "SPJvdMbz7pbh"
      },
      "execution_count": 65,
      "outputs": []
    },
    {
      "cell_type": "code",
      "source": [
        "# RMSE_GD = ((y_pred_final-y)**2).mean() "
      ],
      "metadata": {
        "id": "-B8vcihYXGqR"
      },
      "execution_count": 66,
      "outputs": []
    },
    {
      "cell_type": "code",
      "source": [
        "beta = beta_list[-1]\n",
        "yp = beta[0] + beta[1]*X[:,1] + beta[2]*X[:,2] + beta[3]*X[:,3] + beta[4]*X[:,4]\n",
        "MSE_equ = ((yp-y)**2).mean()"
      ],
      "metadata": {
        "id": "ETzTAHBSZJlg"
      },
      "execution_count": 67,
      "outputs": []
    },
    {
      "cell_type": "code",
      "source": [
        "print('Mean Square Error using equation of hyperplane : {}'.format(round(MSE_equ,3)))\n",
        "# print('Mean Square Error from Gradient Descent prediction : {}'.format(round(MSE_GD,3)))"
      ],
      "metadata": {
        "id": "OoK59qB-Zptx",
        "colab": {
          "base_uri": "https://localhost:8080/"
        },
        "outputId": "1a2e6b23-b345-4913-e750-afb6c7b34af4"
      },
      "execution_count": 68,
      "outputs": [
        {
          "output_type": "stream",
          "name": "stdout",
          "text": [
            "Mean Square Error using equation of hyperplane : 59.445\n"
          ]
        }
      ]
    },
    {
      "cell_type": "markdown",
      "source": [
        "Using sci-kit learn"
      ],
      "metadata": {
        "id": "J72fmkP_Z_mO"
      }
    },
    {
      "cell_type": "code",
      "source": [
        "from sklearn.linear_model import LinearRegression"
      ],
      "metadata": {
        "id": "YMGM_EzmZs4C"
      },
      "execution_count": 69,
      "outputs": []
    },
    {
      "cell_type": "code",
      "source": [
        "from sklearn.model_selection import train_test_split\n",
        "X_train, X_test, y_train, y_test = train_test_split(\n",
        "    X, y, test_size=0.33, random_state=123)"
      ],
      "metadata": {
        "id": "DDUi5fF6n44H"
      },
      "execution_count": 70,
      "outputs": []
    },
    {
      "cell_type": "code",
      "source": [
        "X_test.shape"
      ],
      "metadata": {
        "colab": {
          "base_uri": "https://localhost:8080/"
        },
        "id": "L5RzV_Tnn6DE",
        "outputId": "e7ac32a2-0b0a-4f0c-90e2-9a1c23523a4a"
      },
      "execution_count": 71,
      "outputs": [
        {
          "output_type": "execute_result",
          "data": {
            "text/plain": [
              "(131, 5)"
            ]
          },
          "metadata": {},
          "execution_count": 71
        }
      ]
    },
    {
      "cell_type": "code",
      "source": [
        "y_train.shape"
      ],
      "metadata": {
        "id": "1qi4c_e1aF_7",
        "colab": {
          "base_uri": "https://localhost:8080/"
        },
        "outputId": "82ead686-bc30-4fb0-a3c5-f75393cc15ad"
      },
      "execution_count": 72,
      "outputs": [
        {
          "output_type": "execute_result",
          "data": {
            "text/plain": [
              "(263,)"
            ]
          },
          "metadata": {},
          "execution_count": 72
        }
      ]
    },
    {
      "cell_type": "code",
      "source": [
        "lm = LinearRegression()\n",
        "\n",
        "#Fitting the model\n",
        "lm = lm.fit(X_train,y_train)\n",
        "\n",
        "#predicting\n",
        "pred = lm.predict(X_test)"
      ],
      "metadata": {
        "id": "xalKogHlaXKB"
      },
      "execution_count": 73,
      "outputs": []
    },
    {
      "cell_type": "code",
      "source": [
        "pred.shape"
      ],
      "metadata": {
        "id": "Blitg0uobL9R",
        "colab": {
          "base_uri": "https://localhost:8080/"
        },
        "outputId": "a675e0a6-0095-4085-8e94-4a7b8cf6da9b"
      },
      "execution_count": 74,
      "outputs": [
        {
          "output_type": "execute_result",
          "data": {
            "text/plain": [
              "(131,)"
            ]
          },
          "metadata": {},
          "execution_count": 74
        }
      ]
    },
    {
      "cell_type": "code",
      "source": [
        "Loss = np.sqrt(((pred-y_test)**2).mean())\n",
        "print(Loss)"
      ],
      "metadata": {
        "colab": {
          "base_uri": "https://localhost:8080/"
        },
        "id": "ACMzlRPKoe_t",
        "outputId": "d79006da-1e22-413a-e165-426f093351c1"
      },
      "execution_count": 75,
      "outputs": [
        {
          "output_type": "stream",
          "name": "stdout",
          "text": [
            "5.7735643516967805\n"
          ]
        }
      ]
    },
    {
      "cell_type": "code",
      "source": [
        "intercept = lm.intercept_\n",
        "Beta_0 = lm.coef_[0]\n",
        "Beta_1 = lm.coef_[1]\n",
        "Beta_2 = lm.coef_[2]\n",
        "Beta_3 = lm.coef_[3]\n",
        "Beta_4 = lm.coef_[4]\n",
        "\n",
        "print(\"FROM LR MODEL\")\n",
        "\n",
        "print('Intercept : {}'.format(round(intercept,3)))\n",
        "print('Beta_0 : {}'.format(round(Beta_0,4)))\n",
        "print('Beta_1 : {}'.format(round(Beta_1,4)))\n",
        "print('Beta_2 : {}'.format(round(Beta_2,4)))\n",
        "print('Beta_3 : {}'.format(round(Beta_3,4)))\n",
        "print('Beta_4 : {}'.format(round(Beta_4,4)))"
      ],
      "metadata": {
        "id": "jBun3GglbOTT",
        "colab": {
          "base_uri": "https://localhost:8080/"
        },
        "outputId": "79014821-6851-4e67-d6b4-3dde81585fff"
      },
      "execution_count": 76,
      "outputs": [
        {
          "output_type": "stream",
          "name": "stdout",
          "text": [
            "FROM LR MODEL\n",
            "Intercept : -8.057\n",
            "Beta_0 : 0.0\n",
            "Beta_1 : -21.029\n",
            "Beta_2 : 8.5254\n",
            "Beta_3 : -0.091\n",
            "Beta_4 : -1.3779\n"
          ]
        }
      ]
    },
    {
      "cell_type": "code",
      "source": [
        "print(\"FROM Gradient Descent from Scratch\")\n",
        "print('Intercept : {}'.format(round(beta[0],3)))\n",
        "print('beta_0 : {}'.format(round(beta[1],4)))\n",
        "print('beta_1 : {}'.format(round(beta[2],4)))\n",
        "print('beta_2 : {}'.format(round(beta[3],4)))\n",
        "print('beta_3 : {}'.format(round(beta[4],4)))\n",
        "# print('beta_4 : {}'.format(round(beta[5],4)))"
      ],
      "metadata": {
        "id": "idxXwqNpbmRk",
        "colab": {
          "base_uri": "https://localhost:8080/"
        },
        "outputId": "97f70adc-a1d4-4614-ca25-7c3dcf168728"
      },
      "execution_count": 77,
      "outputs": [
        {
          "output_type": "stream",
          "name": "stdout",
          "text": [
            "FROM Gradient Descent from Scratch\n",
            "Intercept : 0.969\n",
            "beta_0 : 0.0732\n",
            "beta_1 : 2.5133\n",
            "beta_2 : -0.0031\n",
            "beta_3 : 1.5099\n"
          ]
        }
      ]
    },
    {
      "cell_type": "markdown",
      "source": [
        "Graphs"
      ],
      "metadata": {
        "id": "6AGUB4w8cTw_"
      }
    },
    {
      "cell_type": "code",
      "source": [
        "import numpy as np\n",
        "from matplotlib import pyplot as plt\n",
        "from matplotlib import animation\n",
        "from mpl_toolkits.mplot3d import Axes3D\n",
        "import networkx as nx\n",
        "from matplotlib.animation import FuncAnimation, PillowWriter \n",
        "\n",
        "\n",
        "# Create a figure and a 3D Axes\n",
        "fig = plt.figure(figsize=(12,10))\n",
        "ax = Axes3D(fig)\n",
        "ax.set_xlabel('X', fontsize = 15)\n",
        "ax.set_ylabel('Y', fontsize = 15)\n",
        "ax.set_zlabel('Z', fontsize = 15)\n",
        "\n",
        "plt.close()"
      ],
      "metadata": {
        "id": "EirWdcaVcFac"
      },
      "execution_count": 36,
      "outputs": []
    },
    {
      "cell_type": "code",
      "source": [
        "def init():\n",
        "    ax.scatter(X_test[:,0], X_test[:,1], y_test, c='C6', marker='o', alpha=0.6) \n",
        "    x0, x1, x2, x3, x4 = np.meshgrid(X_test[:,0], X_test[:,1], X_test[:,2], X_test[:,3],X_test[:,4])\n",
        "    yp = Beta_0 * x0 + Beta_1 * x1 + Beta_2 * x2 + Beta_3 * x3+ Beta_4 * x4\n",
        "    ax.plot_wireframe(x0,x1,yp, rcount=200,ccount=200, linewidth = 0.5,color='C9', alpha=0.5)\n",
        "    ax.legend(fontsize=15, labels = ['Data points', 'Hyperplane'])\n",
        "    return fig,\n",
        "\n",
        "def animate(i):\n",
        "    ax.view_init(elev=10., azim=i)\n",
        "    return fig,\n",
        "\n",
        "\n",
        "# Animate\n",
        "\n",
        "anim = animation.FuncAnimation(fig, animate, init_func=init,\n",
        "                               frames=360, interval=20, blit=True)\n",
        "\n",
        "# plt.legend(fontsize=15, labels = [''])\n",
        "anim.save('animation.gif', writer='pillow', fps = 30)\n",
        "plt.close()"
      ],
      "metadata": {
        "id": "jpsMPYBncX7h"
      },
      "execution_count": null,
      "outputs": []
    },
    {
      "cell_type": "code",
      "source": [
        "import io\n",
        "import base64\n",
        "from IPython.display import HTML\n",
        "\n",
        "filename = 'animation.gif'\n",
        "\n",
        "video = io.open(filename, 'r+b').read()\n",
        "encoded = base64.b64encode(video)\n",
        "HTML(data='''<img src=\"data:image/gif;base64,{0}\" type=\"gif\" />'''.format(encoded.decode('ascii')))"
      ],
      "metadata": {
        "id": "URGZF9OidGqV"
      },
      "execution_count": null,
      "outputs": []
    },
    {
      "cell_type": "code",
      "source": [
        "# # We'll see how this looks in 2D view\n",
        "\n",
        "# # Function for getting the 2D view\n",
        "\n",
        "# def plot_view(elev_given, azim_given):\n",
        "\n",
        "#     fig = plt.figure()\n",
        "#     ax = fig.add_subplot(111, projection='3d')\n",
        "\n",
        "#     #Scatter plot\n",
        "#     ax.scatter(xs[:,0], xs[:,1], ys, c='C6', marker='o', alpha=0.6, label='Data points')\n",
        "\n",
        "#     #Plane \n",
        "\n",
        "#     x0, x1 = np.meshgrid(xs[:,0], xs[:,1])\n",
        "#     yp = Beta_0 * x0 + Beta_1 * x1\n",
        "#     ax.plot_wireframe(x0,x1,yp, rcount=200,ccount=200, linewidth = 0.5, color='C9', alpha=0.5, label='Hyperplane')\n",
        "\n",
        "#     ax.set_xlabel('Rooms', fontsize = 15)\n",
        "#     ax.set_ylabel('Population', fontsize = 15)\n",
        "#     ax.set_zlabel('Price', fontsize = 15)\n",
        "#     plt.legend(fontsize=15)\n",
        "#     ax.view_init(elev=elev_given, azim=azim_given)"
      ],
      "metadata": {
        "id": "a4jUs0KjdMmd"
      },
      "execution_count": null,
      "outputs": []
    },
    {
      "cell_type": "code",
      "source": [
        "# plot_view(-23,91)\n",
        "# plt.show()"
      ],
      "metadata": {
        "id": "HMidy1iZn7A7"
      },
      "execution_count": null,
      "outputs": []
    },
    {
      "cell_type": "code",
      "source": [
        "# plot_view(158,-172)\n",
        "# plt.show()"
      ],
      "metadata": {
        "id": "zKYtvcProO38"
      },
      "execution_count": null,
      "outputs": []
    },
    {
      "cell_type": "code",
      "source": [
        ""
      ],
      "metadata": {
        "id": "IODVAPSIoSyF"
      },
      "execution_count": null,
      "outputs": []
    },
    {
      "cell_type": "markdown",
      "source": [
        "Plotting:\n"
      ],
      "metadata": {
        "id": "DjoB5nngq8ju"
      }
    },
    {
      "cell_type": "code",
      "source": [
        "def plot(itr, loss_list):\n",
        "  epochs = range(1,itr+1)\n",
        "  plt.plot(epochs, loss_list, 'g', label='Loss')\n",
        "  plt.title('Loss vs Epochs')\n",
        "  plt.xlabel('Epochs')\n",
        "  plt.ylabel('Loss')\n",
        "  plt.legend()\n",
        "  plt.show()"
      ],
      "metadata": {
        "id": "gk31j_9Jq_2K"
      },
      "execution_count": 17,
      "outputs": []
    },
    {
      "cell_type": "markdown",
      "source": [
        "## Altering Parameters:\n",
        "\n"
      ],
      "metadata": {
        "id": "pM8Ni7eppfNA"
      }
    },
    {
      "cell_type": "markdown",
      "source": [
        "Obs - 1"
      ],
      "metadata": {
        "id": "ADkQnYB8sfna"
      }
    },
    {
      "cell_type": "code",
      "source": [
        "print(X.shape)\n",
        "print(beta.shape)\n",
        "print(y.shape)"
      ],
      "metadata": {
        "colab": {
          "base_uri": "https://localhost:8080/"
        },
        "id": "u16bIyLxrp2G",
        "outputId": "ae80928b-b9c2-457a-fea4-b4b1e368778e"
      },
      "execution_count": 21,
      "outputs": [
        {
          "output_type": "stream",
          "name": "stdout",
          "text": [
            "(394, 5)\n",
            "(5,)\n",
            "(394,)\n"
          ]
        }
      ]
    },
    {
      "cell_type": "code",
      "source": [
        "m = y.size  #no. of data points\n",
        "np.random.seed(10)\n",
        "beta = np.random.rand(5)  #initializing beta with some random values\n",
        "alpha2 = 0.0005\n",
        "itr2 = 100\n",
        "batch_size2 = 35\n",
        "y_pred_list2, loss_list2, beta_list2 = gradient_descent(X,y,batch_size2,itr2,beta,alpha2)"
      ],
      "metadata": {
        "id": "OiIHmQ52pkiL"
      },
      "execution_count": 45,
      "outputs": []
    },
    {
      "cell_type": "code",
      "source": [
        "len(loss_list2)"
      ],
      "metadata": {
        "colab": {
          "base_uri": "https://localhost:8080/"
        },
        "id": "qr7OTy8rrbeo",
        "outputId": "bfc80955-f509-4405-b959-599961267a06"
      },
      "execution_count": 48,
      "outputs": [
        {
          "output_type": "execute_result",
          "data": {
            "text/plain": [
              "100"
            ]
          },
          "metadata": {},
          "execution_count": 48
        }
      ]
    },
    {
      "cell_type": "code",
      "source": [
        "plot(itr2, loss_list2)"
      ],
      "metadata": {
        "colab": {
          "base_uri": "https://localhost:8080/",
          "height": 295
        },
        "id": "pOiuKD3fsNZM",
        "outputId": "f9d365b3-4ad4-48c4-8bd2-10e339dfe2a0"
      },
      "execution_count": 49,
      "outputs": [
        {
          "output_type": "display_data",
          "data": {
            "text/plain": [
              "<Figure size 432x288 with 1 Axes>"
            ],
            "image/png": "[encoded data removed]"
          },
          "metadata": {
            "needs_background": "light"
          }
        }
      ]
    },
    {
      "cell_type": "markdown",
      "source": [
        "Obs - 2"
      ],
      "metadata": {
        "id": "MkKfBV-psh8o"
      }
    },
    {
      "cell_type": "code",
      "source": [
        "m = y.size  #no. of data points\n",
        "np.random.seed(10)\n",
        "beta = np.random.rand(5)  #initializing beta with some random values\n",
        "alpha3 = 0.00001\n",
        "itr3 = 1000\n",
        "batch_size3 = 20\n",
        "y_pred_list3, loss_list3, beta_list3 = gradient_descent(X,y,batch_size3,itr3,beta,alpha3)"
      ],
      "metadata": {
        "id": "LM7HPYBxsYWz"
      },
      "execution_count": 60,
      "outputs": []
    },
    {
      "cell_type": "code",
      "source": [
        "plot(itr3, loss_list3)"
      ],
      "metadata": {
        "colab": {
          "base_uri": "https://localhost:8080/",
          "height": 295
        },
        "id": "BXYvEXddsoCt",
        "outputId": "44339783-4e5d-4dff-c5fd-710940045d15"
      },
      "execution_count": 61,
      "outputs": [
        {
          "output_type": "display_data",
          "data": {
            "text/plain": [
              "<Figure size 432x288 with 1 Axes>"
            ],
            "image/png": "[encoded data removed]"
          },
          "metadata": {
            "needs_background": "light"
          }
        }
      ]
    },
    {
      "cell_type": "code",
      "source": [
        "min(loss_list3)"
      ],
      "metadata": {
        "colab": {
          "base_uri": "https://localhost:8080/"
        },
        "id": "LKX9L394sxpX",
        "outputId": "a6771183-c261-46dc-d5da-4571d14c7b17"
      },
      "execution_count": 64,
      "outputs": [
        {
          "output_type": "execute_result",
          "data": {
            "text/plain": [
              "5.766266885333015"
            ]
          },
          "metadata": {},
          "execution_count": 64
        }
      ]
    },
    {
      "cell_type": "code",
      "source": [
        ""
      ],
      "metadata": {
        "id": "cBjvRm7YtFL6"
      },
      "execution_count": null,
      "outputs": []
    }
  ]
}